import numpy
import os
import pandas as pd
import pickle

#from sklearn import svm

# Load data frp, files
training_folders = ['buy','fun','hope','really','communicate','mother']
training_folder_location = '../training_data/csv/'
raw_training_data_array = {}
data_set_size = 0
label_vector = numpy.array([])

for training_label in training_folders:
    file_list = os.listdir(training_folder_location + training_label + "/")
    for file in file_list:
        data_set_size = data_set_size + 1
        raw_training_data_array[data_set_size] = pd.read_csv(training_folder_location + training_label + "/" + file)
        label_vector = numpy.append(label_vector, training_label)
        

# Mean
rawData = raw_training_data_array[1]
zeroCrossingArray = numpy.array([])
maxDiffArray = numpy.array([])

rY = rawData['rightWrist_y']
normRawData = (rY - numpy.mean(rY))/(numpy.max(rY-numpy.mean(rY))-numpy.min(rY-numpy.mean(rY)))
diffNormRawData = numpy.diff(normRawData)

if diffNormRawData[0] > 0:
 	initSign = 1
else:
 	initSign = 0

windowSize = 5;

for x in range(1, len(diffNormRawData)):
    if diffNormRawData[x] > 0:
        newSign = 1
    else:
        newSign = 0
	
    if initSign != newSign:
        zeroCrossingArray = numpy.append(zeroCrossingArray, x)
        initSign = newSign
        maxIndex = numpy.minimum(len(diffNormRawData),x+windowSize)
        minIndex = numpy.maximum(0,x - windowSize)
        maxVal = numpy.amax(diffNormRawData[minIndex:maxIndex])
        minVal = numpy.amin(diffNormRawData[minIndex:maxIndex])
        maxDiffArray = numpy.append(maxDiffArray, (maxVal - minVal))
			

index = numpy.argsort(-maxDiffArray)

feature_vector = numpy.array([])
feature_vector = numpy.append(feature_vector, diffNormRawData)
print (feature_vector.size)
feature_vector = numpy.append(feature_vector, zeroCrossingArray[index[0:2]])
print (feature_vector.size)
feature_vector = numpy.append(feature_vector, maxDiffArray[index[0:2]])
print (feature_vector.size)

feature_matrix = numpy.array([])
feature_matrix = numpy.concatenate([[feature_vector], [feature_vector]])
feature_matrix = numpy.concatenate((feature_matrix, [feature_vector]),axis=0)
feature_matrix = numpy.concatenate((feature_matrix, [feature_vector]),axis=0)
feature_matrix = numpy.concatenate((feature_matrix, [feature_vector]),axis=0)
feature_matrix = numpy.concatenate((feature_matrix, [feature_vector]),axis=0)
feature_matrix = numpy.concatenate((feature_matrix, [feature_vector]),axis=0)
feature_matrix = numpy.concatenate((feature_matrix, [feature_vector]),axis=0)
feature_matrix = numpy.concatenate((feature_matrix, [feature_vector]),axis=0)
feature_matrix = numpy.concatenate((feature_matrix, [feature_vector]),axis=0)

