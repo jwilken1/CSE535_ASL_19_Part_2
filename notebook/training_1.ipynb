import numpy
import pandas as pd
from sklearn import svm
import pickle

# Load data frp, files
raw_training_data_array = {}
raw_training_data_array[1] = pd.read_csv(r'/content/drive/My Drive/!Study/ASU/CSE535/CSV_data_Tuesday/CSV/buy/BUY_1_BAKRE.csv', sep=',', header=0, nrows=34)
raw_training_data_array[2] = pd.read_csv(r'/content/drive/My Drive/!Study/ASU/CSE535/CSV_data_Tuesday/CSV/buy/BUY_1_DOKE.csv', sep=',', header=0, nrows=34)
raw_training_data_array[3] = pd.read_csv(r'/content/drive/My Drive/!Study/ASU/CSE535/CSV_data_Tuesday/CSV/buy/BUY_1_HAREKAL.csv', sep=',', header=0, nrows=34)
raw_training_data_array[4] = pd.read_csv(r'/content/drive/My Drive/!Study/ASU/CSE535/CSV_data_Tuesday/CSV/buy/BUY_1_KRISHNA.csv', sep=',', header=0, nrows=34)
raw_training_data_array[5] = pd.read_csv(r'/content/drive/My Drive/!Study/ASU/CSE535/CSV_data_Tuesday/CSV/buy/BUY_2_BAKRE.csv', sep=',', header=0, nrows=34)
raw_training_data_array[6] = pd.read_csv(r'/content/drive/My Drive/!Study/ASU/CSE535/CSV_data_Tuesday/CSV/buy/BUY_2_DOKE.csv', sep=',', header=0, nrows=34)
raw_training_data_array[7] = pd.read_csv(r'/content/drive/My Drive/!Study/ASU/CSE535/CSV_data_Tuesday/CSV/buy/BUY_2_HAREKAL.csv', sep=',', header=0, nrows=34)
raw_training_data_array[8] = pd.read_csv(r'/content/drive/My Drive/!Study/ASU/CSE535/CSV_data_Tuesday/CSV/buy/BUY_2_KRISHNA.csv', sep=',', header=0, nrows=34)
raw_training_data_array[9] = pd.read_csv(r'/content/drive/My Drive/!Study/ASU/CSE535/CSV_data_Tuesday/CSV/buy/BUY_PRACTICE_1_GANDAVARAPU.csv', sep=',', header=0, nrows=34)
raw_training_data_array[10] = pd.read_csv(r'/content/drive/My Drive/!Study/ASU/CSE535/CSV_data_Tuesday/CSV/buy/BUY_PRACTICE_1_GUNDLURU.csv', sep=',', header=0, nrows=34)
raw_training_data_array[11] = pd.read_csv(r'/content/drive/My Drive/!Study/ASU/CSE535/CSV_data_Tuesday/CSV/buy/BUY_PRACTICE_1_VAGHASIYA.csv', sep=',', header=0, nrows=34)
raw_training_data_array[12] = pd.read_csv(r'/content/drive/My Drive/!Study/ASU/CSE535/CSV_data_Tuesday/CSV/buy/BUY_PRACTICE_2_GANDAVARAPU.csv', sep=',', header=0, nrows=34)
raw_training_data_array[13] = pd.read_csv(r'/content/drive/My Drive/!Study/ASU/CSE535/CSV_data_Tuesday/CSV/buy/BUY_PRACTICE_2_GUNDLURU.csv', sep=',', header=0, nrows=34)
raw_training_data_array[14] = pd.read_csv(r'/content/drive/My Drive/!Study/ASU/CSE535/CSV_data_Tuesday/CSV/buy/BUY_PRACTICE_2_VAGHASIYA.csv', sep=',', header=0, nrows=34)
raw_training_data_array[15] = pd.read_csv(r'/content/drive/My Drive/!Study/ASU/CSE535/CSV_data_Tuesday/CSV/buy/BUY_PRACTICE_3_GANDAVARAPU.csv', sep=',', header=0, nrows=34)
raw_training_data_array[16] = pd.read_csv(r'/content/drive/My Drive/!Study/ASU/CSE535/CSV_data_Tuesday/CSV/buy/BUY_PRACTICE_3_GUNDLURU.csv', sep=',', header=0, nrows=34)
raw_training_data_array[17] = pd.read_csv(r'/content/drive/My Drive/!Study/ASU/CSE535/CSV_data_Tuesday/CSV/buy/BUY_PRACTICE_3_VAGHASIYA.csv', sep=',', header=0, nrows=34)
raw_training_data_array[18] = pd.read_csv(r'/content/drive/My Drive/!Study/ASU/CSE535/CSV_data_Tuesday/CSV/buy/BUY_PRACTICE_4_GANDAVARAPU.csv', sep=',', header=0, nrows=34)
raw_training_data_array[19] = pd.read_csv(r'/content/drive/My Drive/!Study/ASU/CSE535/CSV_data_Tuesday/CSV/buy/BUY_PRACTICE_5_GANDAVARAPU.csv', sep=',', header=0, nrows=34)

raw_training_data_array[20] = pd.read_csv(r'/content/drive/My Drive/!Study/ASU/CSE535/CSV_data_Tuesday/CSV/fun/FUN_1_BAKRE.csv', sep=',', header=0, nrows=34)
raw_training_data_array[21] = pd.read_csv(r'/content/drive/My Drive/!Study/ASU/CSE535/CSV_data_Tuesday/CSV/fun/FUN_1_DOKE.csv', sep=',', header=0, nrows=34)
raw_training_data_array[22] = pd.read_csv(r'/content/drive/My Drive/!Study/ASU/CSE535/CSV_data_Tuesday/CSV/fun/FUN_1_HAREKAL.csv', sep=',', header=0, nrows=34)
raw_training_data_array[23] = pd.read_csv(r'/content/drive/My Drive/!Study/ASU/CSE535/CSV_data_Tuesday/CSV/fun/FUN_1_KRISHNA.csv', sep=',', header=0, nrows=34)
raw_training_data_array[24] = pd.read_csv(r'/content/drive/My Drive/!Study/ASU/CSE535/CSV_data_Tuesday/CSV/fun/FUN_2_BAKRE.csv', sep=',', header=0, nrows=34)
raw_training_data_array[25] = pd.read_csv(r'/content/drive/My Drive/!Study/ASU/CSE535/CSV_data_Tuesday/CSV/fun/FUN_2_DOKE.csv', sep=',', header=0, nrows=34)
raw_training_data_array[26] = pd.read_csv(r'/content/drive/My Drive/!Study/ASU/CSE535/CSV_data_Tuesday/CSV/fun/FUN_2_HAREKAL.csv', sep=',', header=0, nrows=34)
raw_training_data_array[27] = pd.read_csv(r'/content/drive/My Drive/!Study/ASU/CSE535/CSV_data_Tuesday/CSV/fun/FUN_2_KRISHNA.csv', sep=',', header=0, nrows=34)
raw_training_data_array[28] = pd.read_csv(r'/content/drive/My Drive/!Study/ASU/CSE535/CSV_data_Tuesday/CSV/fun/FUN_3_BAKRE.csv', sep=',', header=0, nrows=34)
raw_training_data_array[29] = pd.read_csv(r'/content/drive/My Drive/!Study/ASU/CSE535/CSV_data_Tuesday/CSV/fun/FUN_3_DOKE.csv', sep=',', header=0, nrows=34)
raw_training_data_array[30] = pd.read_csv(r'/content/drive/My Drive/!Study/ASU/CSE535/CSV_data_Tuesday/CSV/fun/FUN_3_HAREKAL.csv', sep=',', header=0, nrows=34)
raw_training_data_array[31] = pd.read_csv(r'/content/drive/My Drive/!Study/ASU/CSE535/CSV_data_Tuesday/CSV/fun/FUN_3_KRISHNA.csv', sep=',', header=0, nrows=34)
raw_training_data_array[32] = pd.read_csv(r'/content/drive/My Drive/!Study/ASU/CSE535/CSV_data_Tuesday/CSV/fun/FUN_PRACTICE_(1)_AGRAWAL.csv', sep=',', header=0, nrows=34)
raw_training_data_array[33] = pd.read_csv(r'/content/drive/My Drive/!Study/ASU/CSE535/CSV_data_Tuesday/CSV/fun/FUN_PRACTICE_(1)_BABUJI.csv', sep=',', header=0, nrows=34)
raw_training_data_array[34] = pd.read_csv(r'/content/drive/My Drive/!Study/ASU/CSE535/CSV_data_Tuesday/CSV/fun/FUN_PRACTICE_(2)_AGRAWAL.csv', sep=',', header=0, nrows=34)
raw_training_data_array[35] = pd.read_csv(r'/content/drive/My Drive/!Study/ASU/CSE535/CSV_data_Tuesday/CSV/fun/FUN_PRACTICE_(2)_BABUJI.csv', sep=',', header=0, nrows=34)
raw_training_data_array[36] = pd.read_csv(r'/content/drive/My Drive/!Study/ASU/CSE535/CSV_data_Tuesday/CSV/fun/FUN_PRACTICE_(2)_RAVEENDRANNAIR.csv', sep=',', header=0, nrows=34)
raw_training_data_array[37] = pd.read_csv(r'/content/drive/My Drive/!Study/ASU/CSE535/CSV_data_Tuesday/CSV/fun/FUN_PRACTICE_(3)_AGRAWAL.csv', sep=',', header=0, nrows=34)
raw_training_data_array[38] = pd.read_csv(r'/content/drive/My Drive/!Study/ASU/CSE535/CSV_data_Tuesday/CSV/fun/FUN_PRACTICE_(3)_BABUJI.csv', sep=',', header=0, nrows=34)
raw_training_data_array[39] = pd.read_csv(r'/content/drive/My Drive/!Study/ASU/CSE535/CSV_data_Tuesday/CSV/fun/FUN_PRACTICE_(3)_RAVEENDRANNAIR.csv', sep=',', header=0, nrows=34)

raw_training_data_array[40] = pd.read_csv(r'/content/drive/My Drive/!Study/ASU/CSE535/CSV_data_Tuesday/CSV/hope/HOPE_1_BAKRE.csv', sep=',', header=0, nrows=34)
raw_training_data_array[41] = pd.read_csv(r'/content/drive/My Drive/!Study/ASU/CSE535/CSV_data_Tuesday/CSV/hope/HOPE_1_DOKE.csv', sep=',', header=0, nrows=34)
raw_training_data_array[42] = pd.read_csv(r'/content/drive/My Drive/!Study/ASU/CSE535/CSV_data_Tuesday/CSV/hope/HOPE_1_HAREKAL.csv', sep=',', header=0, nrows=34)
raw_training_data_array[43] = pd.read_csv(r'/content/drive/My Drive/!Study/ASU/CSE535/CSV_data_Tuesday/CSV/hope/HOPE_1_KRISHNA.csv', sep=',', header=0, nrows=34)
raw_training_data_array[44] = pd.read_csv(r'/content/drive/My Drive/!Study/ASU/CSE535/CSV_data_Tuesday/CSV/hope/HOPE_PRACTICE_(4)_RAVEENDRANNAIR.csv', sep=',', header=0, nrows=34)
raw_training_data_array[45] = pd.read_csv(r'/content/drive/My Drive/!Study/ASU/CSE535/CSV_data_Tuesday/CSV/hope/HOPE_PRACTICE_(4)_JOSEPH.csv', sep=',', header=0, nrows=34)
raw_training_data_array[46] = pd.read_csv(r'/content/drive/My Drive/!Study/ASU/CSE535/CSV_data_Tuesday/CSV/hope/HOPE_2_HAREKAL.csv', sep=',', header=0, nrows=34)
raw_training_data_array[47] = pd.read_csv(r'/content/drive/My Drive/!Study/ASU/CSE535/CSV_data_Tuesday/CSV/hope/HOPE_2_KRISHNA.csv', sep=',', header=0, nrows=34)
raw_training_data_array[48] = pd.read_csv(r'/content/drive/My Drive/!Study/ASU/CSE535/CSV_data_Tuesday/CSV/hope/HOPE_3_BAKRE.csv', sep=',', header=0, nrows=34)
raw_training_data_array[49] = pd.read_csv(r'/content/drive/My Drive/!Study/ASU/CSE535/CSV_data_Tuesday/CSV/hope/HOPE_3_DOKE.csv', sep=',', header=0, nrows=34)
raw_training_data_array[50] = pd.read_csv(r'/content/drive/My Drive/!Study/ASU/CSE535/CSV_data_Tuesday/CSV/hope/HOPE_3_HAREKAL.csv', sep=',', header=0, nrows=34)
raw_training_data_array[51] = pd.read_csv(r'/content/drive/My Drive/!Study/ASU/CSE535/CSV_data_Tuesday/CSV/hope/HOPE_3_KRISHNA.csv', sep=',', header=0, nrows=34)
raw_training_data_array[52] = pd.read_csv(r'/content/drive/My Drive/!Study/ASU/CSE535/CSV_data_Tuesday/CSV/hope/HOPE_PRACTICE_(1)_AGRAWAL.csv', sep=',', header=0, nrows=34)
raw_training_data_array[53] = pd.read_csv(r'/content/drive/My Drive/!Study/ASU/CSE535/CSV_data_Tuesday/CSV/hope/HOPE_PRACTICE_(1)_BABUJI.csv', sep=',', header=0, nrows=34)
raw_training_data_array[54] = pd.read_csv(r'/content/drive/My Drive/!Study/ASU/CSE535/CSV_data_Tuesday/CSV/hope/HOPE_PRACTICE_(2)_AGRAWAL.csv', sep=',', header=0, nrows=34)
raw_training_data_array[55] = pd.read_csv(r'/content/drive/My Drive/!Study/ASU/CSE535/CSV_data_Tuesday/CSV/hope/HOPE_PRACTICE_(2)_BABUJI.csv', sep=',', header=0, nrows=34)
raw_training_data_array[56] = pd.read_csv(r'/content/drive/My Drive/!Study/ASU/CSE535/CSV_data_Tuesday/CSV/hope/HOPE_PRACTICE_(2)_RAVEENDRANNAIR.csv', sep=',', header=0, nrows=34)
raw_training_data_array[57] = pd.read_csv(r'/content/drive/My Drive/!Study/ASU/CSE535/CSV_data_Tuesday/CSV/hope/HOPE_PRACTICE_(3)_AGRAWAL.csv', sep=',', header=0, nrows=34)
raw_training_data_array[58] = pd.read_csv(r'/content/drive/My Drive/!Study/ASU/CSE535/CSV_data_Tuesday/CSV/hope/HOPE_PRACTICE_(3)_BABUJI.csv', sep=',', header=0, nrows=34)
raw_training_data_array[59] = pd.read_csv(r'/content/drive/My Drive/!Study/ASU/CSE535/CSV_data_Tuesday/CSV/hope/HOPE_PRACTICE_(3)_RAVEENDRANNAIR.csv', sep=',', header=0, nrows=34)

raw_training_data_array[60] = pd.read_csv(r'/content/drive/My Drive/!Study/ASU/CSE535/CSV_data_Tuesday/CSV/really/REALLY_1_BAKRE.csv', sep=',', header=0, nrows=34)
raw_training_data_array[61] = pd.read_csv(r'/content/drive/My Drive/!Study/ASU/CSE535/CSV_data_Tuesday/CSV/really/REALLY_1_DOKE.csv', sep=',', header=0, nrows=34)
raw_training_data_array[62] = pd.read_csv(r'/content/drive/My Drive/!Study/ASU/CSE535/CSV_data_Tuesday/CSV/really/REALLY_1_HAREKAL.csv', sep=',', header=0, nrows=34)
raw_training_data_array[63] = pd.read_csv(r'/content/drive/My Drive/!Study/ASU/CSE535/CSV_data_Tuesday/CSV/really/REALLY_1_KRISHNA.csv', sep=',', header=0, nrows=34)
raw_training_data_array[64] = pd.read_csv(r'/content/drive/My Drive/!Study/ASU/CSE535/CSV_data_Tuesday/CSV/really/REALLY_2_BAKRE.csv', sep=',', header=0, nrows=34)
raw_training_data_array[65] = pd.read_csv(r'/content/drive/My Drive/!Study/ASU/CSE535/CSV_data_Tuesday/CSV/really/REALLY_2_DOKE.csv', sep=',', header=0, nrows=34)
raw_training_data_array[66] = pd.read_csv(r'/content/drive/My Drive/!Study/ASU/CSE535/CSV_data_Tuesday/CSV/really/REALLY_2_HAREKAL.csv', sep=',', header=0, nrows=34)
raw_training_data_array[67] = pd.read_csv(r'/content/drive/My Drive/!Study/ASU/CSE535/CSV_data_Tuesday/CSV/really/REALLY_2_KRISHNA.csv', sep=',', header=0, nrows=34)
raw_training_data_array[68] = pd.read_csv(r'/content/drive/My Drive/!Study/ASU/CSE535/CSV_data_Tuesday/CSV/really/REALLY_3_BAKRE.csv', sep=',', header=0, nrows=34)
raw_training_data_array[69] = pd.read_csv(r'/content/drive/My Drive/!Study/ASU/CSE535/CSV_data_Tuesday/CSV/really/REALLY_3_DOKE.csv', sep=',', header=0, nrows=34)
raw_training_data_array[70] = pd.read_csv(r'/content/drive/My Drive/!Study/ASU/CSE535/CSV_data_Tuesday/CSV/really/REALLY_3_HAREKAL.csv', sep=',', header=0, nrows=34)
raw_training_data_array[71] = pd.read_csv(r'/content/drive/My Drive/!Study/ASU/CSE535/CSV_data_Tuesday/CSV/really/REALLY_3_KRISHNA.csv', sep=',', header=0, nrows=34)
raw_training_data_array[72] = pd.read_csv(r'/content/drive/My Drive/!Study/ASU/CSE535/CSV_data_Tuesday/CSV/really/REALLY_PRACTICE_(1)_AGRAWAL.csv', sep=',', header=0, nrows=34)
raw_training_data_array[73] = pd.read_csv(r'/content/drive/My Drive/!Study/ASU/CSE535/CSV_data_Tuesday/CSV/really/REALLY_PRACTICE_(1)_RAVEENDRANNAIR.csv', sep=',', header=0, nrows=34)
raw_training_data_array[74] = pd.read_csv(r'/content/drive/My Drive/!Study/ASU/CSE535/CSV_data_Tuesday/CSV/really/REALLY_PRACTICE_(2)_AGRAWAL.csv', sep=',', header=0, nrows=34)
raw_training_data_array[75] = pd.read_csv(r'/content/drive/My Drive/!Study/ASU/CSE535/CSV_data_Tuesday/CSV/really/REALLY_PRACTICE_(2)_RAVEENDRANNAIR.csv', sep=',', header=0, nrows=34)
raw_training_data_array[76] = pd.read_csv(r'/content/drive/My Drive/!Study/ASU/CSE535/CSV_data_Tuesday/CSV/really/REALLY_PRACTICE_(2)_RAVEENDRANNAIR.csv', sep=',', header=0, nrows=34)
raw_training_data_array[77] = pd.read_csv(r'/content/drive/My Drive/!Study/ASU/CSE535/CSV_data_Tuesday/CSV/really/REALLY_PRACTICE_(3)_AGRAWAL.csv', sep=',', header=0, nrows=34)
raw_training_data_array[78] = pd.read_csv(r'/content/drive/My Drive/!Study/ASU/CSE535/CSV_data_Tuesday/CSV/really/REALLY_PRACTICE_(3)_BABUJI.csv', sep=',', header=0, nrows=34)
raw_training_data_array[79] = pd.read_csv(r'/content/drive/My Drive/!Study/ASU/CSE535/CSV_data_Tuesday/CSV/really/REALLY_PRACTICE_(3)_RAVEENDRANNAIR.csv', sep=',', header=0, nrows=34)

raw_training_data_array[80] = pd.read_csv(r'/content/drive/My Drive/!Study/ASU/CSE535/CSV_data_Tuesday/CSV/communicate/COMMUNICATE_PRACTICE_(1)_RAVEENDRANNAIR.csv', sep=',', header=0, nrows=34)
raw_training_data_array[81] = pd.read_csv(r'/content/drive/My Drive/!Study/ASU/CSE535/CSV_data_Tuesday/CSV/communicate/COMMUNICATE_1_DOKE.csv', sep=',', header=0, nrows=34)
raw_training_data_array[82] = pd.read_csv(r'/content/drive/My Drive/!Study/ASU/CSE535/CSV_data_Tuesday/CSV/communicate/COMMUNICATE_PRACTICE_(4)_JACOBVARGIS.csv', sep=',', header=0, nrows=34)
raw_training_data_array[83] = pd.read_csv(r'/content/drive/My Drive/!Study/ASU/CSE535/CSV_data_Tuesday/CSV/communicate/COMMUNICATE_1_KRISHNA.csv', sep=',', header=0, nrows=34)
raw_training_data_array[84] = pd.read_csv(r'/content/drive/My Drive/!Study/ASU/CSE535/CSV_data_Tuesday/CSV/communicate/COMMUNICATE_PRACTICE_(4)_JOSEPH.csv', sep=',', header=0, nrows=34)
raw_training_data_array[85] = pd.read_csv(r'/content/drive/My Drive/!Study/ASU/CSE535/CSV_data_Tuesday/CSV/communicate/COMMUNICATE_2_DOKE.csv', sep=',', header=0, nrows=34)
raw_training_data_array[86] = pd.read_csv(r'/content/drive/My Drive/!Study/ASU/CSE535/CSV_data_Tuesday/CSV/communicate/COMMUNICATE_PRACTICE_(5)_JACOBVARGIS.csv', sep=',', header=0, nrows=34)
raw_training_data_array[87] = pd.read_csv(r'/content/drive/My Drive/!Study/ASU/CSE535/CSV_data_Tuesday/CSV/communicate/COMMUNICATE_2_KRISHNA.csv', sep=',', header=0, nrows=34)
raw_training_data_array[88] = pd.read_csv(r'/content/drive/My Drive/!Study/ASU/CSE535/CSV_data_Tuesday/CSV/communicate/COMMUNICATE_PRACTICE_(5)_JOSEPH.csv', sep=',', header=0, nrows=34)
raw_training_data_array[89] = pd.read_csv(r'/content/drive/My Drive/!Study/ASU/CSE535/CSV_data_Tuesday/CSV/communicate/COMMUNICATE_3_DOKE.csv', sep=',', header=0, nrows=34)
raw_training_data_array[90] = pd.read_csv(r'/content/drive/My Drive/!Study/ASU/CSE535/CSV_data_Tuesday/CSV/communicate/COMMUNICATE_PRACTICE_(6)_JOSEPH.csv', sep=',', header=0, nrows=34)
raw_training_data_array[91] = pd.read_csv(r'/content/drive/My Drive/!Study/ASU/CSE535/CSV_data_Tuesday/CSV/communicate/COMMUNICATE_3_KRISHNA.csv', sep=',', header=0, nrows=34)
raw_training_data_array[92] = pd.read_csv(r'/content/drive/My Drive/!Study/ASU/CSE535/CSV_data_Tuesday/CSV/communicate/COMMUNICATE_PRACTICE_(1)_AGRAWAL.csv', sep=',', header=0, nrows=34)
raw_training_data_array[93] = pd.read_csv(r'/content/drive/My Drive/!Study/ASU/CSE535/CSV_data_Tuesday/CSV/communicate/COMMUNICATE_PRACTICE_(1)_BABUJI.csv', sep=',', header=0, nrows=34)
raw_training_data_array[94] = pd.read_csv(r'/content/drive/My Drive/!Study/ASU/CSE535/CSV_data_Tuesday/CSV/communicate/COMMUNICATE_PRACTICE_(2)_AGRAWAL.csv', sep=',', header=0, nrows=34)
raw_training_data_array[95] = pd.read_csv(r'/content/drive/My Drive/!Study/ASU/CSE535/CSV_data_Tuesday/CSV/communicate/COMMUNICATE_PRACTICE_(2)_BABUJI.csv', sep=',', header=0, nrows=34)
raw_training_data_array[96] = pd.read_csv(r'/content/drive/My Drive/!Study/ASU/CSE535/CSV_data_Tuesday/CSV/communicate/COMMUNICATE_PRACTICE_(2)_RAVEENDRANNAIR.csv', sep=',', header=0, nrows=34)
raw_training_data_array[97] = pd.read_csv(r'/content/drive/My Drive/!Study/ASU/CSE535/CSV_data_Tuesday/CSV/communicate/COMMUNICATE_PRACTICE_(3)_AGRAWAL.csv', sep=',', header=0, nrows=34)
raw_training_data_array[98] = pd.read_csv(r'/content/drive/My Drive/!Study/ASU/CSE535/CSV_data_Tuesday/CSV/communicate/COMMUNICATE_PRACTICE_(3)_BABUJI.csv', sep=',', header=0, nrows=34)
raw_training_data_array[99] = pd.read_csv(r'/content/drive/My Drive/!Study/ASU/CSE535/CSV_data_Tuesday/CSV/communicate/COMMUNICATE_PRACTICE_(3)_RAVEENDRANNAIR.csv', sep=',', header=0, nrows=34)

raw_training_data_array[100] = pd.read_csv(r'/content/drive/My Drive/!Study/ASU/CSE535/CSV_data_Tuesday/CSV/mother/MOTHER_1_HAREKAL.csv', sep=',', header=0, nrows=34)
raw_training_data_array[101] = pd.read_csv(r'/content/drive/My Drive/!Study/ASU/CSE535/CSV_data_Tuesday/CSV/mother/MOTHER_1_KRISHNA.csv', sep=',', header=0, nrows=34)
raw_training_data_array[102] = pd.read_csv(r'/content/drive/My Drive/!Study/ASU/CSE535/CSV_data_Tuesday/CSV/mother/MOTHER_2_BAKRE.csv', sep=',', header=0, nrows=34)
raw_training_data_array[103] = pd.read_csv(r'/content/drive/My Drive/!Study/ASU/CSE535/CSV_data_Tuesday/CSV/mother/MOTHER_2_HAREKAL.csv', sep=',', header=0, nrows=34)
raw_training_data_array[104] = pd.read_csv(r'/content/drive/My Drive/!Study/ASU/CSE535/CSV_data_Tuesday/CSV/mother/MOTHER_2_KRISHNA.csv', sep=',', header=0, nrows=34)
raw_training_data_array[105] = pd.read_csv(r'/content/drive/My Drive/!Study/ASU/CSE535/CSV_data_Tuesday/CSV/mother/MOTHER_3_BAKRE.csv', sep=',', header=0, nrows=34)
raw_training_data_array[106] = pd.read_csv(r'/content/drive/My Drive/!Study/ASU/CSE535/CSV_data_Tuesday/CSV/mother/MOTHER_3_HAREKAL.csv', sep=',', header=0, nrows=34)
raw_training_data_array[107] = pd.read_csv(r'/content/drive/My Drive/!Study/ASU/CSE535/CSV_data_Tuesday/CSV/mother/MOTHER_3_KRISHNA.csv', sep=',', header=0, nrows=34)
raw_training_data_array[108] = pd.read_csv(r'/content/drive/My Drive/!Study/ASU/CSE535/CSV_data_Tuesday/CSV/mother/MOTHER_PRACTICE_(1)_AGRAWAL.csv', sep=',', header=0, nrows=34)
raw_training_data_array[109] = pd.read_csv(r'/content/drive/My Drive/!Study/ASU/CSE535/CSV_data_Tuesday/CSV/mother/MOTHER_PRACTICE_(1)_BABUJI.csv', sep=',', header=0, nrows=34)
raw_training_data_array[110] = pd.read_csv(r'/content/drive/My Drive/!Study/ASU/CSE535/CSV_data_Tuesday/CSV/mother/MOTHER_PRACTICE_(1)_RAVEENDRANNAIR.csv', sep=',', header=0, nrows=34)
raw_training_data_array[111] = pd.read_csv(r'/content/drive/My Drive/!Study/ASU/CSE535/CSV_data_Tuesday/CSV/mother/MOTHER_PRACTICE_(2)_AGRAWAL.csv', sep=',', header=0, nrows=34)
raw_training_data_array[112] = pd.read_csv(r'/content/drive/My Drive/!Study/ASU/CSE535/CSV_data_Tuesday/CSV/mother/MOTHER_PRACTICE_(2)_BABUJI.csv', sep=',', header=0, nrows=34)
raw_training_data_array[113] = pd.read_csv(r'/content/drive/My Drive/!Study/ASU/CSE535/CSV_data_Tuesday/CSV/mother/MOTHER_PRACTICE_(2)_RAVEENDRANNAIR.csv', sep=',', header=0, nrows=34)
raw_training_data_array[114] = pd.read_csv(r'/content/drive/My Drive/!Study/ASU/CSE535/CSV_data_Tuesday/CSV/mother/MOTHER_PRACTICE_(4)_JACOBVARGIS.csv', sep=',', header=0, nrows=34)
raw_training_data_array[115] = pd.read_csv(r'/content/drive/My Drive/!Study/ASU/CSE535/CSV_data_Tuesday/CSV/mother/MOTHER_PRACTICE_(4)_JOSEPH.csv', sep=',', header=0, nrows=34)
raw_training_data_array[116] = pd.read_csv(r'/content/drive/My Drive/!Study/ASU/CSE535/CSV_data_Tuesday/CSV/mother/MOTHER_PRACTICE_(4)_JOSEPH.csv', sep=',', header=0, nrows=34)
raw_training_data_array[117] = pd.read_csv(r'/content/drive/My Drive/!Study/ASU/CSE535/CSV_data_Tuesday/CSV/mother/MOTHER_PRACTICE_(5)_JACOBVARGIS.csv', sep=',', header=0, nrows=34)
raw_training_data_array[118] = pd.read_csv(r'/content/drive/My Drive/!Study/ASU/CSE535/CSV_data_Tuesday/CSV/mother/MOTHER_PRACTICE_(5)_JOSEPH.csv', sep=',', header=0, nrows=34)
raw_training_data_array[119] = pd.read_csv(r'/content/drive/My Drive/!Study/ASU/CSE535/CSV_data_Tuesday/CSV/mother/MOTHER_PRACTICE_(6)_JOSEPH.csv', sep=',', header=0, nrows=34)

data_set_size = 120

labelVector = numpy.array([])
for trainingIndex in range(1, 21):
	labelVector = numpy.append(labelVector, 'Buy')
for trainingIndex in range(21, 41):
	labelVector = numpy.append(labelVector, 'Fun')
for trainingIndex in range(41, 61):
	labelVector = numpy.append(labelVector, 'Hope')
for trainingIndex in range(61, 81):
	labelVector = numpy.append(labelVector, 'Really')
for trainingIndex in range(81, 101):
	labelVector = numpy.append(labelVector, 'Communicate')
for trainingIndex in range(101, data_set_size+1):
	labelVector = numpy.append(labelVector, 'Mother')

# Mean
rawData = raw_training_data_array[1]
zeroCrossingArray = numpy.array([])
maxDiffArray = numpy.array([])

rY = rawData['rightWrist_y']
normRawData = (rY - numpy.mean(rY))/(numpy.max(rY-numpy.mean(rY))-numpy.min(rY-numpy.mean(rY)))
diffNormRawData = numpy.diff(normRawData)

# # Zero-crossing and max difference feature
# if diffNormRawData[0] > 0:
# 	initSign = 1
# else:
# 	initSign = 0
# windowSize = 5

# for x in range(1, len(diffNormRawData)):
# 	if diffNormRawData[x] > 0:
# 		newSign = 1
# 	else:
# 		newSign = 0	 
		
# 	if initSign != newSign:
# 		zeroCrossingArray = numpy.append(zeroCrossingArray, x)
# 		initSign = newSign
# 		maxIndex = numpy.minimum(len(diffNormRawData),x+windowSize)
# 		minIndex = numpy.maximum(0,x - windowSize)
		
# 		maxVal = numpy.amax(diffNormRawData[minIndex:maxIndex])
# 		minVal = numpy.amin(diffNormRawData[minIndex:maxIndex])

# 		maxDiffArray = numpy.append(maxDiffArray, (maxVal - minVal))
			

index = numpy.argsort(-maxDiffArray)
feature_vector = numpy.array([])
feature_vector = numpy.append(feature_vector, diffNormRawData)
# feature_vector = numpy.append(feature_vector, zeroCrossingArray[index[0:2]])
# feature_vector = numpy.append(feature_vector, maxDiffArray[index[0:2])	

featureMatrix = numpy.concatenate(([feature_vector], [feature_vector]),axis=0)


for trainingIndex in range(2, len(raw_training_data_array)+1):
	rawData = raw_training_data_array[trainingIndex]
	zeroCrossingArray = numpy.array([])
	maxDiffArray = numpy.array([])

	# Mean
	rY = rawData['rightWrist_y']
	normRawData = (rY - numpy.mean(rY))/(numpy.max(rY-numpy.mean(rY))-numpy.min(rY-numpy.mean(rY)))
	diffNormRawData = numpy.diff(normRawData)

	# # Zero-crossing and max difference
	# if diffNormRawData[0] > 0:
	# 	initSign = 1
	# else:
	# 	initSign = 0

	# windowSize = 5;

	# for x in range(1, len(diffNormRawData)):
	# 	if diffNormRawData[x] > 0:
	# 		newSign = 1
	# 	else:
	# 		newSign = 0	 
		
	# 	if initSign != newSign:
	# 		zeroCrossingArray = numpy.append(zeroCrossingArray, x)
	# 		initSign = newSign
	# 		maxIndex = numpy.minimum(len(diffNormRawData),x+windowSize)
	# 		minIndex = numpy.maximum(0,x - windowSize)
		
	# 		maxVal = numpy.amax(diffNormRawData[minIndex:maxIndex])
	# 		minVal = numpy.amin(diffNormRawData[minIndex:maxIndex])

	# 		maxDiffArray = numpy.append(maxDiffArray, (maxVal - minVal))
			
	# Compile a line of a data
	index = numpy.argsort(-maxDiffArray)
	feature_vector = numpy.array([])
	feature_vector = numpy.append(feature_vector, diffNormRawData)
	# feature_vector = numpy.append(feature_vector, zeroCrossingArray[index[0:2]])
	# feature_vector = numpy.append(feature_vector, maxDiffArray[index[0:2]])	

	featureMatrix = numpy.concatenate((featureMatrix, [feature_vector]),axis=0)

clf = svm.SVC()
clf.fit(featureMatrix,labelVector)


# Check all predictions
for i in range(1, dataSetSize-1):
	print(clf.predict([featureMatrix[i]]))

# Save model
pickle.dump(clf, open("model_1.pkl", 'wb'))

